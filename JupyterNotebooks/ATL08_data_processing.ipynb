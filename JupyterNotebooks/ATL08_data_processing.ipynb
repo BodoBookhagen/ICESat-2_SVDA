{
 "cells": [
  {
   "cell_type": "markdown",
   "id": "5e53f557",
   "metadata": {},
   "source": [
    "# ATL08 data processing\n",
    "\n",
    "Example steps to extract the desired data from an ICESat-2 ATL08 data product. The data are re-structured and organized into a pandas dataframe for each ground track.\n",
    "\n",
    "**You will need to adjust the ATL08_input_path and ATL08_output_path in the next field. Also, you will need to change the ROI shapefile name and EPSG code for your own data.**"
   ]
  },
  {
   "cell_type": "code",
   "execution_count": null,
   "id": "7f418148",
   "metadata": {},
   "outputs": [],
   "source": [
    "## Change this to adjust to your own processing\n",
    "# Data extraction from ATL08 product (HDF5 formatted files)\n",
    "ATL08_input_path = '../ATL08_example_data/ATL08_*.h5'\n",
    "\n",
    "# Output\n",
    "ATL08_output_path = '../ATL08_example_data/hdf'\n",
    "\n",
    "#Region of interest to be clipped from ATL08 file:\n",
    "ROI_fname = '../ATL08_example_data/ROI_westernNamibia.shp'\n",
    "\n",
    "EPSG_Code = 'epsg:32733'"
   ]
  },
  {
   "cell_type": "code",
   "execution_count": null,
   "id": "cb331dd5",
   "metadata": {},
   "outputs": [],
   "source": [
    "import os, h5py, glob, sys\n",
    "import pandas as pd\n",
    "import numpy as np\n",
    "import geopandas as gp\n",
    "from pyproj import Transformer\n",
    "\n",
    "#append the path and import the helper functions\n",
    "sys.path.append('../python')\n",
    "\n",
    "from SVDA_functions import *"
   ]
  },
  {
   "cell_type": "code",
   "execution_count": null,
   "id": "a776035b",
   "metadata": {},
   "outputs": [],
   "source": [
    "ATL08_files = list(glob.glob(ATL08_input_path))\n",
    "for f in ATL08_files:\n",
    "    ATL08 = h5py.File(f,'r')\n",
    "\n",
    "    # Retrieving the six beams names\n",
    "    gtr = [g for g in ATL08.keys() if g.startswith('gt')]\n",
    "\n",
    "    ATL08_objs = []\n",
    "    # Retrieve list of all datasets\n",
    "    ATL08.visit(ATL08_objs.append)   \n",
    "    ATL08_SDS = [o for o in ATL08_objs if isinstance(ATL08[o], h5py.Dataset)]  \n",
    "\n",
    "    h_te_median, night_flag, h_te_best_fit,dem_h, h_canopy,h_dif_ref, landsat_flag, Lat, \\\n",
    "    Lon,canopy_h_metr_25, canopy_h_metr_95, canopy_flag, canopy_rh_conf, h_max_canopy, \\\n",
    "    h_canopy_abs, n_ca_photons, layer_flag, terrain_slope = ([] for i in range(18))\n",
    "\n",
    "    c = ATL08\n",
    "    for b in gtr:\n",
    "        [h_te_median.append(h) for h in c[[g for g in ATL08_SDS if g.endswith('/h_te_median') and b in g][0]][()]]\n",
    "        [h_te_best_fit.append(h) for h in c[[g for g in ATL08_SDS if g.endswith('/h_te_best_fit') and b in g][0]][()]]\n",
    "        [h_canopy.append(h) for h in c[[g for g in ATL08_SDS if g.endswith('/h_canopy') and b in g][0]][()]]   \n",
    "        [Lat.append(h) for h in c[[g for g in ATL08_SDS if g.endswith('/latitude') and b in g][0]][()]]  \n",
    "        [Lon.append(h) for h in c[[g for g in ATL08_SDS if g.endswith('/longitude') and b in g][0]][()]]  \n",
    "        [canopy_h_metr_25.append(h[0]) for h in c[[g for g in ATL08_SDS if g.endswith('/canopy_h_metrics') and \n",
    "                                                   b in g][0]][()]]  \n",
    "        [canopy_h_metr_95.append(h[8]) for h in c[[g for g in ATL08_SDS if g.endswith('/canopy_h_metrics') and \n",
    "                                                   b in g][0]][()]]  \n",
    "        [canopy_flag.append(h) for h in c[[g for g in ATL08_SDS if g.endswith('/canopy_flag') and b in g][0]][()]]  \n",
    "        [landsat_flag.append(h) for h in c[[g for g in ATL08_SDS if g.endswith('/landsat_flag') and b in g][0]][()]] \n",
    "        [canopy_rh_conf.append(h) for h in c[[g for g in ATL08_SDS if g.endswith('/canopy_rh_conf') and b in g][0]][()]]\n",
    "        [h_max_canopy.append(h) for h in c[[g for g in ATL08_SDS if g.endswith('/h_max_canopy') and b in g][0]][()]]\n",
    "        [h_canopy_abs.append(h) for h in c[[g for g in ATL08_SDS if g.endswith('/h_canopy_abs') and b in g][0]][()]]\n",
    "        [h_dif_ref.append(h) for h in c[[g for g in ATL08_SDS if g.endswith('/h_dif_ref') and b in g][0]][()]]\n",
    "        [dem_h.append(h) for h in c[[g for g in ATL08_SDS if g.endswith('/dem_h') and b in g][0]][()]]\n",
    "        [terrain_slope.append(h) for h in c[[g for g in ATL08_SDS if g.endswith('/terrain_slope') and b in g][0]][()]]\n",
    "        [night_flag.append(h) for h in c[[g for g in ATL08_SDS if g.endswith('/night_flag') and b in g][0]][()]]\n",
    "\n",
    "    # Convert lists to Pandas dataframe\n",
    "    ATL08_df = pd.DataFrame({'Latitude': Lat, 'Longitude': Lon, 'Terrain Height (m)': h_te_median, \n",
    "                             'Terrain Elevation best fit': h_te_best_fit, 'h_canopy_abs': h_canopy_abs, \n",
    "                             'Terrain_Slope': terrain_slope,'h_max_canopy': h_max_canopy, 'Canopy height (m)': h_canopy, \n",
    "                             'RH 95': canopy_h_metr_95, 'RH 25': canopy_h_metr_25, 'Canopy Flag': canopy_flag,\n",
    "                             'landsat_flag': landsat_flag, 'canopy_rh_conf': canopy_rh_conf, 'night_flag':night_flag})\n",
    "\n",
    "    # Transformation to UTM coordinate system\n",
    "    x, y = np.array(ATL08_df['Longitude']), np.array(ATL08_df['Latitude'])\n",
    "    transformer = Transformer.from_crs('epsg:4326', EPSG_Code, always_xy=True)\n",
    "    xx, yy = transformer.transform(x, y)\n",
    "\n",
    "    # Save the UTM coordinates into the dataframe\n",
    "    ATL08_df['Easting'] = xx \n",
    "    ATL08_df['Northing'] = yy\n",
    "\n",
    "    ATL08_df, rotation_data = get_atl_alongtrack(ATL08_df)\n",
    "    # Photons and the study area intersections\n",
    "    ROI = gp.GeoDataFrame.from_file(ROI_fname, crs='EPSG:4326')\n",
    "\n",
    "    minLon, minLat, maxLon, maxLat = ROI.envelope[0].bounds\n",
    "    ATL08_df = ATL08_df.where(ATL08_df['Latitude'] > minLat)\n",
    "    ATL08_df = ATL08_df.where(ATL08_df['Latitude'] < maxLat)\n",
    "    ATL08_df = ATL08_df.where(ATL08_df['Longitude'] > minLon)\n",
    "    ATL08_df = ATL08_df.where(ATL08_df['Longitude'] < maxLon)\n",
    "    ATL08_df = ATL08_df.dropna()\n",
    "    ATL08.close()\n",
    "\n",
    "    # save the dataframe into csv file (comment out to save to csv)\n",
    "    # ATL08_df.to_csv(os.path.join(output_path,r'{}.csv'.format(fid[23:-3])), header=True)\n",
    "    #save dataframe to compressed HDF file\n",
    "    if not os.path.exists(ATL08_output_path):\n",
    "        os.mkdir(ATL08_output_path)\n",
    "    ATL08_df.to_hdf(os.path.join(ATL08_output_path,r'{}.hdf'.format(os.path.basename(f)[0:14])), \n",
    "                    key='ATL08_df_%s'%os.path.basename(f)[0:14], complevel=7)"
   ]
  },
  {
   "cell_type": "markdown",
   "id": "2427ead5",
   "metadata": {},
   "source": [
    "Now, the pandas table ATL08_df contains all relevant information clipped to the region of interest:"
   ]
  },
  {
   "cell_type": "code",
   "execution_count": null,
   "id": "8918dfc7",
   "metadata": {},
   "outputs": [],
   "source": [
    "ATL08_df.head()"
   ]
  },
  {
   "cell_type": "markdown",
   "id": "9e32f78e",
   "metadata": {},
   "source": [
    "# Use plotly to visualize ATL08 data\n",
    "\n",
    "There are no classified vegetation photons in these ATL08 data. We provide two ways of plotting ATL08 data: a 2D plotly express and a 3D graphic objects version that gives more flexibility in adjusting the plot.\n"
   ]
  },
  {
   "cell_type": "code",
   "execution_count": null,
   "id": "56c69032",
   "metadata": {},
   "outputs": [],
   "source": [
    "ATL08_files = glob.glob(os.path.join(ATL08_output_path, 'ATL08_*.hdf'))\n",
    "ATL08_files.sort()\n",
    "ATL08_df = pd.read_hdf(ATL08_files[0], mode='r')"
   ]
  },
  {
   "cell_type": "markdown",
   "id": "ebb1797f",
   "metadata": {},
   "source": [
    "## 2D plot with plotly express"
   ]
  },
  {
   "cell_type": "code",
   "execution_count": null,
   "id": "59e8f296",
   "metadata": {},
   "outputs": [],
   "source": [
    "import plotly.express as px\n",
    "fig = px.scatter_mapbox(ATL08_df, \n",
    "                        lat='Latitude', \n",
    "                        lon='Longitude',\n",
    "                        color='Terrain Elevation best fit', zoom=9)\n",
    "fig.update_layout(mapbox_style=\"stamen-terrain\")\n",
    "fig.update_layout(margin={\"r\":0,\"t\":0,\"l\":0,\"b\":0})\n",
    "fig.show()"
   ]
  },
  {
   "cell_type": "markdown",
   "id": "4de98f58",
   "metadata": {},
   "source": [
    "## 3D plot with plotly graphic objects"
   ]
  },
  {
   "cell_type": "code",
   "execution_count": null,
   "id": "6e9b65fc",
   "metadata": {},
   "outputs": [],
   "source": [
    "import plotly.graph_objects as go\n",
    "\n",
    "df_ATL08_canopy_df = ATL08_df[ATL08_df['Canopy height (m)'] < 1e4]\n",
    "fig = go.Figure()\n",
    "ATL08_terrain_data = go.Scatter3d(name='All ATL08',\n",
    "    x=ATL08_df['Easting'], y=ATL08_df['Northing'], z=ATL08_df['Terrain Elevation best fit'],\n",
    "    mode='markers',\n",
    "    marker=dict(\n",
    "        size=1,\n",
    "        color='black', #df_ATL08['Terrain Elevation best fit'],\n",
    "        opacity=0.8\n",
    "    )\n",
    ")\n",
    "\n",
    "ATL08_canopy_data = go.Scatter3d(name='All ATL08',\n",
    "    x=df_ATL08_canopy_df['Easting'], y=df_ATL08_canopy_df['Northing'], z=df_ATL08_canopy_df['Canopy height (m)'],\n",
    "    mode='markers',\n",
    "    marker=dict(\n",
    "        size=6,\n",
    "        color=df_ATL08_canopy_df['Canopy height (m)'],\n",
    "        colorscale='Viridis',   # choose a colorscale\n",
    "        opacity=0.8\n",
    "    )\n",
    ")\n",
    "\n",
    "fig.add_trace(ATL08_terrain_data)\n",
    "fig.add_trace(ATL08_canopy_data)\n",
    "\n",
    "# tight layout\n",
    "fig.update_layout(margin=dict(l=0, r=0, b=0, t=0), title='Land, Ground, and Preliminary Canopy')\n",
    "fig.show()\n"
   ]
  }
 ],
 "metadata": {
  "kernelspec": {
   "display_name": "Python 3 (ipykernel)",
   "language": "python",
   "name": "python3"
  },
  "language_info": {
   "codemirror_mode": {
    "name": "ipython",
    "version": 3
   },
   "file_extension": ".py",
   "mimetype": "text/x-python",
   "name": "python",
   "nbconvert_exporter": "python",
   "pygments_lexer": "ipython3",
   "version": "3.10.2"
  }
 },
 "nbformat": 4,
 "nbformat_minor": 5
}

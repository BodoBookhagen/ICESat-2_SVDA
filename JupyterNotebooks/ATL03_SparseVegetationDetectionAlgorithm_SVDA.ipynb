{
 "cells": [
  {
   "cell_type": "markdown",
   "id": "ad0e7690",
   "metadata": {},
   "source": [
    "# Example of Sparse Vegetation Detection Algorithm (SVDA)\n",
    "\n",
    "This Jupyter Notebook contains an example / tutorial of typical processing steps for the SVDA algorithm. The Notebook calls several functions within the `SVDA_functions.py` python file that are imported at the beginning.\n",
    "\n",
    "For this tutorial, we are using an existing ATL03 file - we do not provide the original file for this tutorial, because it is very large. You can download it from [https://nsidc.org/data/ATL03](https://nsidc.org/data/ATL03) (see below). ATL03 file are usually several GB large. The output of the processing steps is included in the example directory.\n",
    "\n",
    "Initital setup and import of required modules. Make sure to change the path to where you store the github repository."
   ]
  },
  {
   "cell_type": "code",
   "execution_count": null,
   "id": "d73629f5",
   "metadata": {},
   "outputs": [],
   "source": [
    "import os, h5py, glob, sys, warnings, tqdm\n",
    "import pandas as pd\n",
    "import numpy as np\n",
    "import geopandas as gp\n",
    "from pyproj import Transformer\n",
    "from pyproj import proj\n",
    "\n",
    "sys.path.append('../python')\n",
    "\n",
    "#from SVDA_helper_functions import *\n",
    "from SVDA_functions import *"
   ]
  },
  {
   "cell_type": "code",
   "execution_count": null,
   "id": "47f6e283",
   "metadata": {},
   "outputs": [],
   "source": [
    "# Data extraction from ATL03 product (HDF5 formatted files)\n",
    "# This example uses only a single file, the code can also take a directory full of files\n",
    "\n",
    "#The ATL03_20200320133708_12950614_003_01.h5 file is 4.7GB and is available at https://nsidc.org/data/ATL03\n",
    "ATL03_input_path = '../ATL03_20200320133708_12950614_003_01.h5'\n",
    "\n",
    "# Output\n",
    "ATL03_output_path = '../ATL03_example_data/hdf'\n",
    "\n",
    "#Region of interest to be clipped from ATL08 file:\n",
    "ROI_fname = '../ATL08_example_data/ROI_westernNamibia.shp'\n",
    "EPSG_Namibia_Code = 'epsg:32733'"
   ]
  },
  {
   "cell_type": "markdown",
   "id": "1977ece1",
   "metadata": {},
   "source": [
    "# 1. Signal photons extraction from ATL03 data product\n",
    "\n",
    "First step in SVDA processing: Extracting relevant geographic data from the large ATL03 file. The function `ATL03_signal_photons(fname, ATL03_output_path, ROI_fname, EPSG_Code)` converts an ATL03 H5 file, and extracts the following attributes for each beam (gt1l, gt1r, gt2l, gt2r, gt3l, gt3r):\n",
    "```\n",
    "heights/lat_ph\n",
    "heights/lon_ph\n",
    "heights/h_ph\n",
    "heights/dist_ph_along\n",
    "heights/signal_conf_ph\n",
    "```\n",
    "\n",
    "The function extracts along-track distances, converts latitude and longitude to local UTM coordinates (see EPSG code above), filters out land values within the geographic area <ROI_fname>, usually a shapefile in EPSG:4326 coordinates and writes these to a compressed HDF file in <ATL03_output_path> starting with 'Land_' and the date and time of the beam."
   ]
  },
  {
   "cell_type": "code",
   "execution_count": null,
   "id": "4b79d00b",
   "metadata": {
    "scrolled": true
   },
   "outputs": [],
   "source": [
    "ATL03_files = list(glob.glob(ATL03_input_path))\n",
    "ATL03_files.sort()\n",
    "for fname in ATL03_files:  \n",
    "    ATL03_signal_photons(fname, ATL03_output_path, ROI_fname, EPSG_Namibia_Code, reprocess=False)"
   ]
  },
  {
   "cell_type": "markdown",
   "id": "2a142fec",
   "metadata": {},
   "source": [
    "## Plot of Land Data with plotly (zoom in to area of interest)\n",
    "\n",
    "Here we use an interactive plotly code to visualize the photons. We create an interactive 2D map with plotly express (see examples near the end of the notebook for an interactive 3D map).\n",
    "\n",
    "*Note: Because there are usually many photons, we restrict the 2D plot to show only every 100th photon point.*\n",
    "\n",
    "First, load the data and subset:"
   ]
  },
  {
   "cell_type": "code",
   "execution_count": null,
   "id": "b8868bc2",
   "metadata": {},
   "outputs": [],
   "source": [
    "ATL03_land_files = glob.glob(os.path.join(ATL03_output_path, 'ATL03_Land_*.hdf'))\n",
    "ATL03_land_files.sort()\n",
    "ATL03_df = pd.read_hdf(ATL03_land_files[0], mode='r')\n",
    "ATL03_df = ATL03_df.iloc[::100, :]"
   ]
  },
  {
   "cell_type": "code",
   "execution_count": null,
   "id": "fff152ae",
   "metadata": {},
   "outputs": [],
   "source": [
    "ATL03_df.head()"
   ]
  },
  {
   "cell_type": "code",
   "execution_count": null,
   "id": "37000720",
   "metadata": {},
   "outputs": [],
   "source": [
    "import plotly.express as px\n",
    "fig = px.scatter_mapbox(ATL03_df, \n",
    "                        lat='Latitude', \n",
    "                        lon='Longitude',\n",
    "                        color='Photon_Height', zoom=9)\n",
    "fig.update_layout(mapbox_style=\"stamen-terrain\")\n",
    "fig.update_layout(margin={\"r\":0,\"t\":0,\"l\":0,\"b\":0})\n",
    "fig.show()"
   ]
  },
  {
   "cell_type": "markdown",
   "id": "385483ab",
   "metadata": {},
   "source": [
    "# 2. Ground and preliminary canopy photons classification\n",
    "\n",
    "Function `ATL03_ground_preliminary_canopy_photons`: Takes the output *ATL03_Land_*.hdf* from `ATL03_signal_photons` (created in Step 1) with along-track information and performs an initial ground and preliminary canopy photo classification. Stores results in two new HDF files *ATL03_Ground_*.hdf* and *ATL03_PreCanopy_*.hdf*."
   ]
  },
  {
   "cell_type": "code",
   "execution_count": null,
   "id": "e0b266af",
   "metadata": {
    "scrolled": false
   },
   "outputs": [],
   "source": [
    "ATL03_land_files = glob.glob(os.path.join(ATL03_output_path, 'ATL03_Land_*.hdf'))\n",
    "ATL03_land_files.sort()\n",
    "for fname in ATL03_land_files:\n",
    "    ATL03_ground_preliminary_canopy_photons(fname, ATL03_output_path, reprocess=False)"
   ]
  },
  {
   "cell_type": "markdown",
   "id": "50ad9126",
   "metadata": {},
   "source": [
    "Load the new data into a pandas dataframe:"
   ]
  },
  {
   "cell_type": "code",
   "execution_count": null,
   "id": "9ecb6860",
   "metadata": {},
   "outputs": [],
   "source": [
    "ATL03_PreCanopy_files = glob.glob(os.path.join(ATL03_output_path, 'ATL03_PreCanopy_*.hdf'))\n",
    "ATL03_PreCanopy_files.sort()\n",
    "df_PreCanopy = pd.read_hdf(ATL03_PreCanopy_files[0], mode='r')\n",
    "\n",
    "ATL03_Ground_files = glob.glob(os.path.join(ATL03_output_path, 'ATL03_Ground_*.hdf'))\n",
    "ATL03_Ground_files.sort()\n",
    "df_Ground = pd.read_hdf(ATL03_Ground_files[0], mode='r')"
   ]
  },
  {
   "cell_type": "markdown",
   "id": "af70a3c1",
   "metadata": {},
   "source": [
    "The ground-classified data is stored in:"
   ]
  },
  {
   "cell_type": "code",
   "execution_count": null,
   "id": "3587e07c",
   "metadata": {},
   "outputs": [],
   "source": [
    "df_Ground.head()"
   ]
  },
  {
   "cell_type": "markdown",
   "id": "d2c157c5",
   "metadata": {},
   "source": [
    "And the preliminary canopy is stored in:"
   ]
  },
  {
   "cell_type": "code",
   "execution_count": null,
   "id": "53fc7620",
   "metadata": {},
   "outputs": [],
   "source": [
    "df_PreCanopy.head()"
   ]
  },
  {
   "cell_type": "markdown",
   "id": "f3e4fcf5",
   "metadata": {},
   "source": [
    "## Plotly Map of Ground Photons and preliminary canopy as 2D Map"
   ]
  },
  {
   "cell_type": "code",
   "execution_count": null,
   "id": "aec9e46d",
   "metadata": {},
   "outputs": [],
   "source": [
    "import plotly.express as px\n",
    "fig = px.scatter_mapbox(df_Ground, \n",
    "                        lat='Latitude', \n",
    "                        lon='Longitude',\n",
    "                        color='Ground_Height', zoom=9)\n",
    "fig.update_layout(mapbox_style=\"stamen-terrain\")\n",
    "fig.update_layout(margin={\"r\":0,\"t\":0,\"l\":0,\"b\":0})\n",
    "fig.show()"
   ]
  },
  {
   "cell_type": "markdown",
   "id": "c970e0ab",
   "metadata": {},
   "source": [
    "We scale the colorscale to the 5th and 95th percentile of the variable *Canopy Height*:"
   ]
  },
  {
   "cell_type": "code",
   "execution_count": null,
   "id": "22b3908b",
   "metadata": {},
   "outputs": [],
   "source": [
    "import plotly.express as px\n",
    "fig = px.scatter_mapbox(df_PreCanopy, \n",
    "                        lat='Latitude', \n",
    "                        lon='Longitude',\n",
    "                        color='PreCanopy_Height', color_continuous_scale='viridis',\n",
    "                        range_color=list(np.percentile(df_PreCanopy['PreCanopy_Height'], (5, 95))),\n",
    "                        zoom=9)\n",
    "fig.update_layout(mapbox_style=\"stamen-terrain\")\n",
    "fig.update_layout(margin={\"r\":0,\"t\":0,\"l\":0,\"b\":0})\n",
    "fig.show()"
   ]
  },
  {
   "cell_type": "markdown",
   "id": "45d0869c",
   "metadata": {},
   "source": [
    "## Plotly Map of preliminary canopy and ground Photons as 3D Map\n",
    "Also showing all land classified photons (but only every 100th photon)."
   ]
  },
  {
   "cell_type": "code",
   "execution_count": null,
   "id": "14f5f247",
   "metadata": {},
   "outputs": [],
   "source": [
    "import plotly.graph_objects as go\n",
    "ATL03_land_files = glob.glob(os.path.join(ATL03_output_path, 'ATL03_Land_*.hdf'))\n",
    "ATL03_land_files.sort()\n",
    "\n",
    "df = pd.read_hdf(ATL03_land_files[0], mode='r')\n",
    "df_Land = df.iloc[::100, :]\n",
    "\n",
    "ATL03_PreCanopy_files = glob.glob(os.path.join(ATL03_output_path, 'ATL03_PreCanopy_*.hdf'))\n",
    "ATL03_PreCanopy_files.sort()\n",
    "df_PreCanopy = pd.read_hdf(ATL03_PreCanopy_files[0], mode='r')\n",
    "\n",
    "ATL03_Ground_files = glob.glob(os.path.join(ATL03_output_path, 'ATL03_Ground_*.hdf'))\n",
    "ATL03_Ground_files.sort()\n",
    "df_Ground = pd.read_hdf(ATL03_Ground_files[0], mode='r')\n",
    "\n",
    "fig = go.Figure()\n",
    "Land_data = go.Scatter3d(name='All Land data',\n",
    "    x=df_Land['Easting'], y=df_Land['Northing'], z=df_Land['Photon_Height'],\n",
    "    mode='markers',\n",
    "    marker=dict(\n",
    "        size=1,\n",
    "        color='black',\n",
    "        opacity=0.8\n",
    "    )\n",
    ")\n",
    "\n",
    "Ground_data = go.Scatter3d(name='Classified Ground data',\n",
    "    x=df_Ground['Easting'], y=df_Ground['Northing'], z=df_Ground['Ground_Height'],\n",
    "    mode='markers',\n",
    "    marker=dict(\n",
    "        size=5,\n",
    "        color='red',\n",
    "        opacity=0.8\n",
    "    )\n",
    ")\n",
    "\n",
    "PreCanopy_data = go.Scatter3d(name='Preliminary Canopy data',\n",
    "    x=df_PreCanopy['Easting'], y=df_PreCanopy['Northing'], \n",
    "                              z=df_PreCanopy['Ground_interp_Height']+df_PreCanopy['PreCanopy_Height'],\n",
    "    mode='markers',\n",
    "    marker=dict(\n",
    "        size=3,\n",
    "        color=df_PreCanopy['PreCanopy_Height'],\n",
    "        colorscale='Viridis',\n",
    "        opacity=0.8\n",
    "    )\n",
    ")\n",
    "\n",
    "Groundi_data = go.Scatter3d(name='Classified Ground data',\n",
    "    x=df_PreCanopy['Easting'], y=df_PreCanopy['Northing'], z=df_PreCanopy['Ground_interp_Height'],\n",
    "    mode='lines',\n",
    "    line=dict(\n",
    "        color='red',\n",
    "        width=2\n",
    "    )\n",
    ")\n",
    "\n",
    "fig.add_trace(Land_data)\n",
    "fig.add_trace(Ground_data)\n",
    "fig.add_trace(PreCanopy_data)\n",
    "fig.add_trace(Groundi_data)\n",
    "\n",
    "# tight layout\n",
    "fig.update_layout(margin=dict(l=0, r=0, b=0, t=0), title='Land, Ground, and Preliminary Canopy')\n",
    "fig.show()"
   ]
  },
  {
   "cell_type": "markdown",
   "id": "b4c79b33",
   "metadata": {},
   "source": [
    "# 3. Canopy and Top-of-Canopy photons classification\n",
    "\n",
    "The function `ATL03_canopy_and_top_of_canopy_photons` takes the output from the previous step 2 (`ATL03_ground_preliminary_canopy_photons`) stored in *ATL03_PreCanopy_*.hdf* and performs refined canopy and Top-of-Canopy (TOC) classification. Output is stored in *ATL03_TOC_*.hdf*."
   ]
  },
  {
   "cell_type": "code",
   "execution_count": null,
   "id": "ea498d97",
   "metadata": {
    "scrolled": true
   },
   "outputs": [],
   "source": [
    "ATL03_precanopy_files = glob.glob(os.path.join(ATL03_output_path, 'ATL03_PreCanopy_*.hdf'))\n",
    "ATL03_precanopy_files.sort()\n",
    "for fname in ATL03_precanopy_files:\n",
    "    ATL03_canopy_and_top_of_canopy_photons(fname, ATL03_output_path, reprocess=False)"
   ]
  },
  {
   "cell_type": "markdown",
   "id": "ec04124f",
   "metadata": {},
   "source": [
    "Load newly generated files and plot first few lines. The relevant, classified photon data are in *Canopy_Height*:"
   ]
  },
  {
   "cell_type": "code",
   "execution_count": null,
   "id": "226690a7",
   "metadata": {},
   "outputs": [],
   "source": [
    "ATL03_TOC_files = glob.glob(os.path.join(ATL03_output_path, 'ATL03_TOC_*.hdf'))\n",
    "ATL03_TOC_files.sort()\n",
    "df_TOC = pd.read_hdf(ATL03_TOC_files[0], mode='r')\n",
    "df_TOC.head()"
   ]
  },
  {
   "cell_type": "markdown",
   "id": "3af0e3fa",
   "metadata": {},
   "source": [
    "## Plotly Map of TOC, preliminary canopy, and ground photons as 3D Map\n",
    "Also showing all land classified photons (but only every 100th photon).\n",
    "\n",
    "First, load relevant panda dataframes:"
   ]
  },
  {
   "cell_type": "code",
   "execution_count": null,
   "id": "56f7799f",
   "metadata": {},
   "outputs": [],
   "source": [
    "ATL03_PreCanopy_files = glob.glob(os.path.join(ATL03_output_path, 'ATL03_PreCanopy_*.hdf'))\n",
    "ATL03_PreCanopy_files.sort()\n",
    "df_PreCanopy = pd.read_hdf(ATL03_PreCanopy_files[0], mode='r')\n",
    "\n",
    "ATL03_Ground_files = glob.glob(os.path.join(ATL03_output_path, 'ATL03_Ground_*.hdf'))\n",
    "ATL03_Ground_files.sort()\n",
    "df_Ground = pd.read_hdf(ATL03_Ground_files[0], mode='r')\n",
    "\n",
    "ATL03_TOC_files = glob.glob(os.path.join(ATL03_output_path, 'ATL03_TOC_*.hdf'))\n",
    "ATL03_TOC_files.sort()\n",
    "df_TOC = pd.read_hdf(ATL03_TOC_files[0], mode='r')"
   ]
  },
  {
   "cell_type": "code",
   "execution_count": null,
   "id": "0fde3bd0",
   "metadata": {},
   "outputs": [],
   "source": [
    "import plotly.graph_objects as go\n",
    "\n",
    "fig = go.Figure()\n",
    "Land_data = go.Scatter3d(name='All Land data',\n",
    "    x=df_Land['Easting'], y=df_Land['Northing'], z=df_Land['Photon_Height'],\n",
    "    mode='markers',\n",
    "    marker=dict(\n",
    "        size=1,\n",
    "        color='black',\n",
    "        opacity=0.8\n",
    "    )\n",
    ")\n",
    "\n",
    "Ground_data = go.Scatter3d(name='Classified Ground data',\n",
    "    x=df_Ground['Easting'], y=df_Ground['Northing'], z=df_Ground['Ground_Height'],\n",
    "    mode='markers',\n",
    "    marker=dict(\n",
    "        size=3,\n",
    "        color='red',\n",
    "        opacity=0.8\n",
    "    )\n",
    ")\n",
    "\n",
    "PreCanopy_data = go.Scatter3d(name='Preliminary Canopy data',\n",
    "    x=df_PreCanopy['Easting'], y=df_PreCanopy['Northing'], \n",
    "                              z=df_PreCanopy['PreCanopy_Height']+df_PreCanopy['Ground_interp_Height'],\n",
    "    mode='markers',\n",
    "    marker=dict(\n",
    "        size=3,\n",
    "        color='gray',\n",
    "        opacity=0.8\n",
    "    )\n",
    ")\n",
    "\n",
    "TOC_data = go.Scatter3d(name='Canopy and Top of the Canopy (TOC) data',\n",
    "    x=df_TOC['Easting'], y=df_TOC['Northing'], \n",
    "                        z=df_TOC['TOC_Height']+df_TOC['Ground_interp_Height'],\n",
    "    mode='markers',\n",
    "    marker=dict(\n",
    "        size=5,\n",
    "        color=df_TOC['TOC_Height'],\n",
    "        colorscale='Viridis',\n",
    "        opacity=0.8\n",
    "    )\n",
    ")\n",
    "\n",
    "Groundi_data = go.Scatter3d(name='Classified Ground data',\n",
    "    x=df_PreCanopy['Easting'], y=df_PreCanopy['Northing'], z=df_PreCanopy['Ground_interp_Height'],\n",
    "    mode='lines',\n",
    "    line=dict(\n",
    "        color='red',\n",
    "        width=2\n",
    "    )\n",
    ")\n",
    "\n",
    "\n",
    "fig.add_trace(Land_data)\n",
    "fig.add_trace(Ground_data)\n",
    "fig.add_trace(PreCanopy_data)\n",
    "fig.add_trace(TOC_data)\n",
    "fig.add_trace(Groundi_data)\n",
    "\n",
    "# tight layout\n",
    "fig.update_layout(margin=dict(l=0, r=0, b=0, t=0), title='Land, Ground, Preliminary Canopy, and TOC')\n",
    "fig.show()\n"
   ]
  },
  {
   "cell_type": "markdown",
   "id": "20a10789",
   "metadata": {},
   "source": [
    "# 4. Grass photons classification\n",
    "\n",
    "Function `ATL03_GrassHeight_photons` takes the output from the previous step (`ATL03_ground_preliminary_canopy_photons`) stored in *ATL03_PreCanopy_**.hdf* and performs grass height calculations. Output is stored in *ATL03_GrassHeight_**.hdf*."
   ]
  },
  {
   "cell_type": "code",
   "execution_count": null,
   "id": "bbc08fec",
   "metadata": {},
   "outputs": [],
   "source": [
    "ATL03_precanopy_files = glob.glob(os.path.join(ATL03_output_path, 'ATL03_PreCanopy_*.hdf'))\n",
    "ATL03_precanopy_files.sort()\n",
    "for fname in ATL03_precanopy_files:\n",
    "    ATL03_GrassHeight_photons(fname, ATL03_output_path, reprocess=False)"
   ]
  },
  {
   "cell_type": "markdown",
   "id": "b554fc95",
   "metadata": {},
   "source": [
    "Load generated data - relevant grass heights are in column *Canopy_Height*."
   ]
  },
  {
   "cell_type": "code",
   "execution_count": null,
   "id": "133c8bb7",
   "metadata": {},
   "outputs": [],
   "source": [
    "ATL03_GrassHeight_files = glob.glob(os.path.join(ATL03_output_path, 'ATL03_GrassHeight_*.hdf'))\n",
    "ATL03_GrassHeight_files.sort()\n",
    "df_GrassHeight = pd.read_hdf(ATL03_GrassHeight_files[0], mode='r')\n",
    "df_GrassHeight.head()"
   ]
  },
  {
   "cell_type": "markdown",
   "id": "75875578",
   "metadata": {},
   "source": [
    "## Using plotly to plot an interactive map of the canopy height and grass height data"
   ]
  },
  {
   "cell_type": "code",
   "execution_count": null,
   "id": "05d85cb9",
   "metadata": {},
   "outputs": [],
   "source": [
    "import plotly.graph_objects as go\n",
    "ATL03_PreCanopy_files = glob.glob(os.path.join(ATL03_output_path, 'ATL03_PreCanopy_*.hdf'))\n",
    "ATL03_PreCanopy_files.sort()\n",
    "df_PreCanopy = pd.read_hdf(ATL03_PreCanopy_files[0], mode='r')\n",
    "\n",
    "ATL03_Ground_files = glob.glob(os.path.join(ATL03_output_path, 'ATL03_Ground_*.hdf'))\n",
    "ATL03_Ground_files.sort()\n",
    "df_Ground = pd.read_hdf(ATL03_Ground_files[0], mode='r')\n",
    "\n",
    "ATL03_TOC_files = glob.glob(os.path.join(ATL03_output_path, 'ATL03_TOC_*.hdf'))\n",
    "ATL03_TOC_files.sort()\n",
    "df_TOC = pd.read_hdf(ATL03_TOC_files[0], mode='r')\n",
    "\n",
    "ATL03_GrassHeight_files = glob.glob(os.path.join(ATL03_output_path, 'ATL03_GrassHeight_*.hdf'))\n",
    "ATL03_GrassHeight_files.sort()\n",
    "df_GrassHeight = pd.read_hdf(ATL03_GrassHeight_files[0], mode='r')\n",
    "\n",
    "fig = go.Figure()\n",
    "Land_data = go.Scatter3d(name='All Land data',\n",
    "    x=df_Land['Easting'], y=df_Land['Northing'], z=df_Land['Photon_Height'],\n",
    "    mode='markers',\n",
    "    marker=dict(\n",
    "        size=1,\n",
    "        color='black',\n",
    "        opacity=0.8\n",
    "    )\n",
    ")\n",
    "\n",
    "Ground_data = go.Scatter3d(name='Classified Ground data',\n",
    "    x=df_Ground['Easting'], y=df_Ground['Northing'], z=df_Ground['Ground_Height'],\n",
    "    mode='markers',\n",
    "    marker=dict(\n",
    "        size=3,\n",
    "        color='red',\n",
    "        opacity=0.8\n",
    "    )\n",
    ")\n",
    "\n",
    "PreCanopy_data = go.Scatter3d(name='Preliminary Canopy data',\n",
    "    x=df_PreCanopy['Easting'], y=df_PreCanopy['Northing'], \n",
    "                              z=df_PreCanopy['PreCanopy_Height']+df_PreCanopy['Ground_interp_Height'],\n",
    "    mode='markers',\n",
    "    marker=dict(\n",
    "        size=3,\n",
    "        color='gray',\n",
    "        opacity=0.8\n",
    "    )\n",
    ")\n",
    "\n",
    "Groundi_data = go.Scatter3d(name='Classified Ground data',\n",
    "    x=df_PreCanopy['Easting'], y=df_PreCanopy['Northing'], z=df_PreCanopy['Ground_interp_Height'],\n",
    "    mode='lines',\n",
    "    line=dict(\n",
    "        color='red',\n",
    "        width=2\n",
    "    )\n",
    ")\n",
    "\n",
    "GrassHeight_data = go.Scatter3d(name='Grass Height',\n",
    "    x=df_GrassHeight['Easting'], y=df_GrassHeight['Northing'], \n",
    "                                z=df_GrassHeight['Ground_interp_Height']+df_GrassHeight['Grass_Height'],\n",
    "    mode='markers',\n",
    "    marker=dict(\n",
    "        size=5,\n",
    "        color=df_GrassHeight['Grass_Height'],\n",
    "        colorscale='Viridis',\n",
    "        opacity=0.8\n",
    "    )\n",
    ")\n",
    "\n",
    "fig.add_trace(Land_data)\n",
    "fig.add_trace(Ground_data)\n",
    "fig.add_trace(PreCanopy_data)\n",
    "fig.add_trace(GrassHeight_data)\n",
    "fig.add_trace(Groundi_data)\n",
    "\n",
    "# tight layout\n",
    "fig.update_layout(margin=dict(l=0, r=0, b=0, t=0), title='Land, Ground, and Grass Height')\n",
    "fig.show()\n"
   ]
  }
 ],
 "metadata": {
  "kernelspec": {
   "display_name": "Python 3 (ipykernel)",
   "language": "python",
   "name": "python3"
  },
  "language_info": {
   "codemirror_mode": {
    "name": "ipython",
    "version": 3
   },
   "file_extension": ".py",
   "mimetype": "text/x-python",
   "name": "python",
   "nbconvert_exporter": "python",
   "pygments_lexer": "ipython3",
   "version": "3.10.2"
  }
 },
 "nbformat": 4,
 "nbformat_minor": 5
}
